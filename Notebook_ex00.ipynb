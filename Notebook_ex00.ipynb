{
 "cells": [
  {
   "cell_type": "code",
   "execution_count": 1,
   "id": "c974f4f1-4b2d-4385-9c0e-0f187a9ed641",
   "metadata": {},
   "outputs": [],
   "source": [
    "# H1 TITLE\n",
    "## H2 TITLE"
   ]
  },
  {
   "cell_type": "code",
   "execution_count": 2,
   "id": "1a4e995f-ca4d-46d1-8807-6355cab064b3",
   "metadata": {},
   "outputs": [
    {
     "name": "stdout",
     "output_type": "stream",
     "text": [
      "Buy the dip?\n"
     ]
    }
   ],
   "source": [
    "print(\"Buy the dip?\")"
   ]
  },
  {
   "cell_type": "code",
   "execution_count": 1,
   "id": "2bcf38fd",
   "metadata": {},
   "outputs": [
    {
     "name": "stdout",
     "output_type": "stream",
     "text": [
      "<class 'int'>\n",
      "<class 'float'>\n",
      "<class 'str'>\n",
      "<class 'dict'>\n",
      "<class 'list'>\n",
      "<class 'tuple'>\n",
      "<class 'set'>\n",
      "<class 'bool'>\n"
     ]
    }
   ],
   "source": [
    "import numpy as np\n",
    "your_np_array = np.array([1, 1.1, \"hello\", {\"number\":1}, [1,2,4], (1,2), {1,2}, True], dtype=object)\n",
    "for i in your_np_array:\n",
    "    print(type(i))"
   ]
  },
  {
   "cell_type": "code",
   "execution_count": 4,
   "id": "0f2dd381",
   "metadata": {},
   "outputs": [
    {
     "name": "stdout",
     "output_type": "stream",
     "text": [
      "[0. 0. 0. 0. 0. 0. 0. 0. 0. 0. 0. 0. 0. 0. 0. 0. 0. 0. 0. 0. 0. 0. 0. 0.\n",
      " 0. 0. 0. 0. 0. 0. 0. 0. 0. 0. 0. 0. 0. 0. 0. 0. 0. 0. 0. 0. 0. 0. 0. 0.\n",
      " 0. 0. 0. 0. 0. 0. 0. 0. 0. 0. 0. 0. 0. 0. 0. 0. 0. 0. 0. 0. 0. 0. 0. 0.\n",
      " 0. 0. 0. 0. 0. 0. 0. 0. 0. 0. 0. 0. 0. 0. 0. 0. 0. 0. 0. 0. 0. 0. 0. 0.\n",
      " 0. 0. 0. 0. 0. 0. 0. 0. 0. 0. 0. 0. 0. 0. 0. 0. 0. 0. 0. 0. 0. 0. 0. 0.\n",
      " 0. 0. 0. 0. 0. 0. 0. 0. 0. 0. 0. 0. 0. 0. 0. 0. 0. 0. 0. 0. 0. 0. 0. 0.\n",
      " 0. 0. 0. 0. 0. 0. 0. 0. 0. 0. 0. 0. 0. 0. 0. 0. 0. 0. 0. 0. 0. 0. 0. 0.\n",
      " 0. 0. 0. 0. 0. 0. 0. 0. 0. 0. 0. 0. 0. 0. 0. 0. 0. 0. 0. 0. 0. 0. 0. 0.\n",
      " 0. 0. 0. 0. 0. 0. 0. 0. 0. 0. 0. 0. 0. 0. 0. 0. 0. 0. 0. 0. 0. 0. 0. 0.\n",
      " 0. 0. 0. 0. 0. 0. 0. 0. 0. 0. 0. 0. 0. 0. 0. 0. 0. 0. 0. 0. 0. 0. 0. 0.\n",
      " 0. 0. 0. 0. 0. 0. 0. 0. 0. 0. 0. 0. 0. 0. 0. 0. 0. 0. 0. 0. 0. 0. 0. 0.\n",
      " 0. 0. 0. 0. 0. 0. 0. 0. 0. 0. 0. 0. 0. 0. 0. 0. 0. 0. 0. 0. 0. 0. 0. 0.\n",
      " 0. 0. 0. 0. 0. 0. 0. 0. 0. 0. 0. 0.]\n"
     ]
    }
   ],
   "source": [
    "a = np.zeros(300)\n",
    "print(a)"
   ]
  },
  {
   "cell_type": "code",
   "execution_count": null,
   "id": "302bc05f",
   "metadata": {},
   "outputs": [],
   "source": [
    "# Create a NumPy array of dimension 300 with zeros without filling it manually\n",
    "# Reshape it to (3,100)\n",
    "\n",
    "a = np.zeros(300)\n",
    "print(a)\n",
    "#a.reshape(3,100)\n",
    "print(a.reshape(3, 100))"
   ]
  },
  {
   "cell_type": "code",
   "execution_count": null,
   "id": "3db51164",
   "metadata": {},
   "outputs": [],
   "source": [
    "# Question 1: Array from 1 to 100\n",
    "q1 = np.array(range(1, 101))\n",
    "print(q1)\n",
    "\n",
    "# Question 2: Odd numbers from 1 to 99\n",
    "q2 = np.array(range(1, 100, 2))\n",
    "print(q2)\n",
    "\n",
    "# Question 3: Even numbers from 100 to 2 (descending)\n",
    "q3 = np.array(range(100, 1, -2))\n",
    "print(q3)\n",
    "\n",
    "# Question 4: 1-100 with multiples of 5 replaced by 0\n",
    "q4 = q1.copy()\n",
    "q4[1::3] = 0\n",
    "print(q4)"
   ]
  },
  {
   "cell_type": "code",
   "execution_count": null,
   "id": "d949fd6e",
   "metadata": {},
   "outputs": [],
   "source": [
    "# Random data generation\n",
    "np.random.seed(888)\n",
    "\n",
    "# 1D array size 100 with normal distribution\n",
    "arr1 = np.random.randn(100)\n",
    "print(arr1.shape)\n",
    "\n",
    "# 2D array 8x8 with random integers 1-10\n",
    "arr2 = np.random.randint(1, 11, (8, 8))\n",
    "print(arr2.shape)\n",
    "\n",
    "# 3D array 4x2x5 with random integers 1-17\n",
    "arr3 = np.random.randint(1, 18, (4, 2, 5))\n",
    "print(arr3.shape)"
   ]
  },
  {
   "cell_type": "code",
   "execution_count": null,
   "id": "74c31349",
   "metadata": {},
   "outputs": [
    {
     "name": "stdout",
     "output_type": "stream",
     "text": [
      "[ 1  2  3  4  5  6  7  8  9 10 11 12 13 14 15 16 17 18 19 20 21 22 23 24\n",
      " 25 26 27 28 29 30 31 32 33 34 35 36 37 38 39 40 41 42 43 44 45 46 47 48\n",
      " 49 50]\n",
      "[ 51  52  53  54  55  56  57  58  59  60  61  62  63  64  65  66  67  68\n",
      "  69  70  71  72  73  74  75  76  77  78  79  80  81  82  83  84  85  86\n",
      "  87  88  89  90  91  92  93  94  95  96  97  98  99 100]\n",
      "[  1   2   3   4   5   6   7   8   9  10  11  12  13  14  15  16  17  18\n",
      "  19  20  21  22  23  24  25  26  27  28  29  30  31  32  33  34  35  36\n",
      "  37  38  39  40  41  42  43  44  45  46  47  48  49  50  51  52  53  54\n",
      "  55  56  57  58  59  60  61  62  63  64  65  66  67  68  69  70  71  72\n",
      "  73  74  75  76  77  78  79  80  81  82  83  84  85  86  87  88  89  90\n",
      "  91  92  93  94  95  96  97  98  99 100]\n",
      "[[  1   2   3   4   5   6   7   8   9  10]\n",
      " [ 11  12  13  14  15  16  17  18  19  20]\n",
      " [ 21  22  23  24  25  26  27  28  29  30]\n",
      " [ 31  32  33  34  35  36  37  38  39  40]\n",
      " [ 41  42  43  44  45  46  47  48  49  50]\n",
      " [ 51  52  53  54  55  56  57  58  59  60]\n",
      " [ 61  62  63  64  65  66  67  68  69  70]\n",
      " [ 71  72  73  74  75  76  77  78  79  80]\n",
      " [ 81  82  83  84  85  86  87  88  89  90]\n",
      " [ 91  92  93  94  95  96  97  98  99 100]]\n"
     ]
    }
   ],
   "source": [
    "# Generate an array with integers from 1 to 50: \n",
    "a1 = np.array(range(1,51))\n",
    "print(a1)\n",
    "\n",
    "# Generate an array with integers from 51 to 100:\n",
    "a2 = np.array(range(51,101))\n",
    "print(a2)\n",
    "\n",
    "#Using np.concatenate, concatenate the two arrays into\n",
    "a3 = np.concatenate((a1, a2))\n",
    "print(a3)\n",
    "\n",
    "# Reshape the concatenated array into a 10x10 matrix\n",
    "a4 = a3.reshape(10,10)\n",
    "print(a4)\n"
   ]
  },
  {
   "cell_type": "code",
   "execution_count": null,
   "id": "cc19bb9b",
   "metadata": {},
   "outputs": [
    {
     "name": "stdout",
     "output_type": "stream",
     "text": [
      "[[1 1 1 1 1 1 1 1 1]\n",
      " [1 1 1 1 1 1 1 1 1]\n",
      " [1 1 1 1 1 1 1 1 1]\n",
      " [1 1 1 1 1 1 1 1 1]\n",
      " [1 1 1 1 1 1 1 1 1]\n",
      " [1 1 1 1 1 1 1 1 1]\n",
      " [1 1 1 1 1 1 1 1 1]\n",
      " [1 1 1 1 1 1 1 1 1]\n",
      " [1 1 1 1 1 1 1 1 1]]\n",
      "[[1 1 1 1 1 1 1 1 1]\n",
      " [1 0 0 0 0 0 0 0 1]\n",
      " [1 0 1 1 1 1 1 0 1]\n",
      " [1 0 1 0 0 0 1 0 1]\n",
      " [1 0 1 0 1 0 1 0 1]\n",
      " [1 0 1 0 0 0 1 0 1]\n",
      " [1 0 1 1 1 1 1 0 1]\n",
      " [1 0 0 0 0 0 0 0 1]\n",
      " [1 1 1 1 1 1 1 1 1]]\n"
     ]
    }
   ],
   "source": [
    "\n",
    "# Create a 9x9 array filled with ones\n",
    "array1 = np.ones((9,9), dtype=np.int8) \n",
    "print(array1)\n",
    "\n",
    "# Create nested pattern using slicing\n",
    "arr = np.ones((9, 9), dtype=np.int8)\n",
    "arr[1:-1, 1:-1] = 0\n",
    "arr[2:-2, 2:-2] = 1\n",
    "arr[3:-3, 3:-3] = 0\n",
    "arr[4, 4] = 1\n",
    "print(arr)\n"
   ]
  },
  {
   "cell_type": "code",
   "execution_count": null,
   "id": "f7151233",
   "metadata": {},
   "outputs": [
    {
     "name": "stdout",
     "output_type": "stream",
     "text": [
      "[[ 1  2  3]\n",
      " [ 2  4  6]\n",
      " [ 3  6  9]\n",
      " [ 4  8 12]\n",
      " [ 5 10 15]]\n"
     ]
    }
   ],
   "source": [
    "# Broadcasting example\n",
    "array_1 = np.array([1,2,3,4,5], dtype=np.int8)\n",
    "array_2 = np.array([1,2,3], dtype=np.int8)\n",
    "\n",
    "# array_1 has shape (5,)\n",
    "# array_2 has shape (3,)\n",
    "\n",
    "# We need to reshape array_1 to be a column vector (shape: 5x1)\n",
    "# array_2 can remain a row vector (shape: 3,)\n",
    "# The np.newaxis object adds a new dimension\n",
    "column_vector = array_1[:, np.newaxis]\n",
    "# Now, multiply them. NumPy will broadcast the two arrays:\n",
    "# The (5, 1) array is stretched across 3 columns.\n",
    "# The (3,) array is stretched down 5 rows.\n",
    "# The result is a (5, 3) matrix.\n",
    "output_matrix = column_vector * array_2\n",
    "\n",
    "print(output_matrix)"
   ]
  },
  {
   "cell_type": "code",
   "execution_count": 38,
   "id": "88b2eb20",
   "metadata": {},
   "outputs": [
    {
     "name": "stdout",
     "output_type": "stream",
     "text": [
      "[[ 7.  1.]\n",
      " [nan  2.]\n",
      " [nan  8.]\n",
      " [ 9.  3.]\n",
      " [ 8.  9.]\n",
      " [nan  2.]\n",
      " [ 8.  2.]\n",
      " [nan  6.]\n",
      " [ 9.  2.]\n",
      " [ 8.  5.]]\n",
      "[[ 7.  1.  7.]\n",
      " [nan  2.  2.]\n",
      " [nan  8.  8.]\n",
      " [ 9.  3.  9.]\n",
      " [ 8.  9.  8.]\n",
      " [nan  2.  2.]\n",
      " [ 8.  2.  8.]\n",
      " [nan  6.  6.]\n",
      " [ 9.  2.  9.]\n",
      " [ 8.  5.  8.]]\n"
     ]
    }
   ],
   "source": [
    "generator = np.random.default_rng(123)\n",
    "grades = np.round(generator.uniform(low = 0.0, high = 10.0, size = (10, 2)))\n",
    "grades[[1,2,5,7], [0,0,0,0]] = np.nan\n",
    "print(grades)\n",
    "\n",
    "# 1. Create the logic for the third column using np.where.\n",
    "# The function works like this: np.where(condition, value_if_true, value_if_false)\n",
    "\n",
    "# Condition: We check which elements in the first column (grades[:, 0]) are NOT NaN.\n",
    "# The `~` operator inverts the boolean result of np.isnan().\n",
    "condition = ~np.isnan(grades[:, 0])\n",
    "\n",
    "# Value if True: If the grade is not NaN, we use the grade from the first column.\n",
    "value_if_true = grades[:, 0]\n",
    "\n",
    "# Value if False: If the grade is NaN, we use the grade from the second column.\n",
    "value_if_false = grades[:, 1]\n",
    "\n",
    "# The result is a new 1D array containing the final grades.\n",
    "final_exam_grades = np.where(condition, value_if_true, value_if_false)\n",
    "\n",
    "\n",
    "# 2. Add this new array as the third column to the original 'grades' array.\n",
    "# We use np.c_ which is a powerful tool for concatenating arrays along the second axis (columns).\n",
    "# It correctly handles stacking the 2D 'grades' array with the 1D 'final_exam_grades' array.\n",
    "grades_with_final = np.c_[grades, final_exam_grades]\n",
    "\n",
    "print(grades_with_final)\n"
   ]
  },
  {
   "cell_type": "code",
   "execution_count": 56,
   "id": "f7f3a75c",
   "metadata": {},
   "outputs": [
    {
     "name": "stdout",
     "output_type": "stream",
     "text": [
      "The size of the NumPy array is: 76752 bytes\n",
      "[[  7.8      0.88     0.       2.6      0.098   25.      67.       0.9968\n",
      "    3.2      0.68     9.8      5.    ]\n",
      " [  7.9      0.6      0.06     1.6      0.069   15.      59.       0.9964\n",
      "    3.3      0.46     9.4      5.    ]\n",
      " [  7.5      0.5      0.36     6.1      0.071   17.     102.       0.9978\n",
      "    3.35     0.8     10.5      5.    ]]\n"
     ]
    }
   ],
   "source": [
    "# Load the data from the CSV file\n",
    "data = np.genfromtxt('winequality-red.csv', delimiter=';', skip_header=1, dtype=np.float32)\n",
    "\n",
    "# Get the size of the array in bytes\n",
    "byte_size = data.nbytes\n",
    "print(f\"The size of the NumPy array is: {byte_size} bytes\")\n",
    "\n",
    "# Set print options to suppress scientific notation\n",
    "np.set_printoptions(suppress=True)\n",
    "\n",
    "# Display the 2nd, 7th, and 12th rows as a two-dimensional array. Exclude np.nan values if present.\n",
    "rows_to_display = data[[1, 6, 11], :]\n",
    "# Exclude rows with np.nan values\n",
    "rows_without_nan = rows_to_display[~np.isnan(rows_to_display).any(axis=1)]\n",
    "\n",
    "print(rows_without_nan) "
   ]
  },
  {
   "cell_type": "code",
   "execution_count": 57,
   "id": "7a6df027",
   "metadata": {},
   "outputs": [
    {
     "name": "stdout",
     "output_type": "stream",
     "text": [
      "False\n"
     ]
    }
   ],
   "source": [
    "# Check if any wine has an alcohol percentage greater than 20%\n",
    "alcohol_column = data[:, 10]  # Alcohol is the 11th column (index 10)\n",
    "any_high_alcohol = np.any(alcohol_column > 20)\n",
    "\n",
    "print(any_high_alcohol)"
   ]
  },
  {
   "cell_type": "code",
   "execution_count": null,
   "id": "fa7625e7",
   "metadata": {},
   "outputs": [],
   "source": [
    "# Calculate the average alcohol percentage, excluding np.nan values\n",
    "alcohol_column = data[:, 10]  # Alcohol is the 11th column (index 10)\n",
    "average_alcohol = np.nanmean(alcohol_column)\n",
    "\n",
    "print(f\"The average alcohol percentage is: {average_alcohol}\")"
   ]
  },
  {
   "cell_type": "code",
   "execution_count": 67,
   "id": "e8b8e3a9",
   "metadata": {},
   "outputs": [
    {
     "name": "stdout",
     "output_type": "stream",
     "text": [
      "[[0 1 2 3 5]\n",
      " [8 7 9 4 6]]\n"
     ]
    }
   ],
   "source": [
    "import itertools\n",
    "\n",
    "# Load the forecast data\n",
    "forecasts = np.loadtxt('model_forecasts.txt', delimiter=',')\n",
    "\n",
    "# Create a list of team indices\n",
    "teams = np.arange(10)\n",
    "\n",
    "def calculate_sum_of_squares(permutation):\n",
    "    \"\"\"Calculates the sum of squared differences for a given permutation of teams.\"\"\"\n",
    "    # Reshape the permutation into 5 pairs\n",
    "    pairs = np.array(permutation).reshape(5, 2)\n",
    "    # Get the score differences for each pair from the forecasts matrix\n",
    "    score_diffs = forecasts[pairs[:, 0], pairs[:, 1]]\n",
    "    # Calculate and return the sum of squares\n",
    "    return np.sum(score_diffs**2)\n",
    "\n",
    "# Generate an iterator for all permutations of the teams\n",
    "all_permutations = itertools.permutations(teams)\n",
    "\n",
    "# Find the permutation with the minimum sum of squared differences\n",
    "# We use the min() function with a key, which avoids an explicit for loop.\n",
    "best_permutation = min(all_permutations, key=calculate_sum_of_squares)\n",
    "\n",
    "# Reshape the best permutation into a (5, 2) array of pairs\n",
    "best_pairs = np.array(best_permutation).reshape(5, 2)\n",
    "\n",
    "# Transpose the array to get the desired (2, 5) output format and print it\n",
    "final_output = best_pairs.T\n",
    "print(final_output)"
   ]
  }
 ],
 "metadata": {
  "kernelspec": {
   "display_name": "ex00",
   "language": "python",
   "name": "python3"
  },
  "language_info": {
   "codemirror_mode": {
    "name": "ipython",
    "version": 3
   },
   "file_extension": ".py",
   "mimetype": "text/x-python",
   "name": "python",
   "nbconvert_exporter": "python",
   "pygments_lexer": "ipython3",
   "version": "3.8.20"
  }
 },
 "nbformat": 4,
 "nbformat_minor": 5
}
