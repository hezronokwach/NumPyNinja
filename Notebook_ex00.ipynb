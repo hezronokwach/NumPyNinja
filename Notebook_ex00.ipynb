{
 "cells": [
  {
   "cell_type": "code",
   "execution_count": 1,
   "id": "c974f4f1-4b2d-4385-9c0e-0f187a9ed641",
   "metadata": {},
   "outputs": [],
   "source": [
    "# H1 TITLE\n",
    "## H2 TITLE"
   ]
  },
  {
   "cell_type": "code",
   "execution_count": 2,
   "id": "1a4e995f-ca4d-46d1-8807-6355cab064b3",
   "metadata": {},
   "outputs": [
    {
     "name": "stdout",
     "output_type": "stream",
     "text": [
      "Buy the dip?\n"
     ]
    }
   ],
   "source": [
    "print(\"Buy the dip?\")"
   ]
  },
  {
   "cell_type": "code",
   "execution_count": 1,
   "id": "2bcf38fd",
   "metadata": {},
   "outputs": [
    {
     "name": "stdout",
     "output_type": "stream",
     "text": [
      "<class 'int'>\n",
      "<class 'float'>\n",
      "<class 'str'>\n",
      "<class 'dict'>\n",
      "<class 'list'>\n",
      "<class 'tuple'>\n",
      "<class 'set'>\n",
      "<class 'bool'>\n"
     ]
    }
   ],
   "source": [
    "import numpy as np\n",
    "your_np_array = np.array([1, 1.1, \"hello\", {\"number\":1}, [1,2,4], (1,2), {1,2}, True], dtype=object)\n",
    "for i in your_np_array:\n",
    "    print(type(i))"
   ]
  },
  {
   "cell_type": "code",
   "execution_count": 4,
   "id": "0f2dd381",
   "metadata": {},
   "outputs": [
    {
     "name": "stdout",
     "output_type": "stream",
     "text": [
      "[0. 0. 0. 0. 0. 0. 0. 0. 0. 0. 0. 0. 0. 0. 0. 0. 0. 0. 0. 0. 0. 0. 0. 0.\n",
      " 0. 0. 0. 0. 0. 0. 0. 0. 0. 0. 0. 0. 0. 0. 0. 0. 0. 0. 0. 0. 0. 0. 0. 0.\n",
      " 0. 0. 0. 0. 0. 0. 0. 0. 0. 0. 0. 0. 0. 0. 0. 0. 0. 0. 0. 0. 0. 0. 0. 0.\n",
      " 0. 0. 0. 0. 0. 0. 0. 0. 0. 0. 0. 0. 0. 0. 0. 0. 0. 0. 0. 0. 0. 0. 0. 0.\n",
      " 0. 0. 0. 0. 0. 0. 0. 0. 0. 0. 0. 0. 0. 0. 0. 0. 0. 0. 0. 0. 0. 0. 0. 0.\n",
      " 0. 0. 0. 0. 0. 0. 0. 0. 0. 0. 0. 0. 0. 0. 0. 0. 0. 0. 0. 0. 0. 0. 0. 0.\n",
      " 0. 0. 0. 0. 0. 0. 0. 0. 0. 0. 0. 0. 0. 0. 0. 0. 0. 0. 0. 0. 0. 0. 0. 0.\n",
      " 0. 0. 0. 0. 0. 0. 0. 0. 0. 0. 0. 0. 0. 0. 0. 0. 0. 0. 0. 0. 0. 0. 0. 0.\n",
      " 0. 0. 0. 0. 0. 0. 0. 0. 0. 0. 0. 0. 0. 0. 0. 0. 0. 0. 0. 0. 0. 0. 0. 0.\n",
      " 0. 0. 0. 0. 0. 0. 0. 0. 0. 0. 0. 0. 0. 0. 0. 0. 0. 0. 0. 0. 0. 0. 0. 0.\n",
      " 0. 0. 0. 0. 0. 0. 0. 0. 0. 0. 0. 0. 0. 0. 0. 0. 0. 0. 0. 0. 0. 0. 0. 0.\n",
      " 0. 0. 0. 0. 0. 0. 0. 0. 0. 0. 0. 0. 0. 0. 0. 0. 0. 0. 0. 0. 0. 0. 0. 0.\n",
      " 0. 0. 0. 0. 0. 0. 0. 0. 0. 0. 0. 0.]\n"
     ]
    }
   ],
   "source": [
    "a = np.zeros(300)\n",
    "print(a)"
   ]
  },
  {
   "cell_type": "code",
   "execution_count": null,
   "id": "302bc05f",
   "metadata": {},
   "outputs": [],
   "source": [
    "# Create a NumPy array of dimension 300 with zeros without filling it manually\n",
    "# Reshape it to (3,100)\n",
    "\n",
    "a = np.zeros(300)\n",
    "print(a)\n",
    "#a.reshape(3,100)\n",
    "print(a.reshape(3, 100))"
   ]
  },
  {
   "cell_type": "code",
   "execution_count": null,
   "id": "3db51164",
   "metadata": {},
   "outputs": [],
   "source": [
    "# Question 1: Array from 1 to 100\n",
    "q1 = np.array(range(1, 101))\n",
    "print(q1)\n",
    "\n",
    "# Question 2: Odd numbers from 1 to 99\n",
    "q2 = np.array(range(1, 100, 2))\n",
    "print(q2)\n",
    "\n",
    "# Question 3: Even numbers from 100 to 2 (descending)\n",
    "q3 = np.array(range(100, 1, -2))\n",
    "print(q3)\n",
    "\n",
    "# Question 4: 1-100 with multiples of 5 replaced by 0\n",
    "q4 = q1.copy()\n",
    "q4[1::3] = 0\n",
    "print(q4)"
   ]
  },
  {
   "cell_type": "code",
   "execution_count": null,
   "id": "d949fd6e",
   "metadata": {},
   "outputs": [],
   "source": [
    "# Random data generation\n",
    "np.random.seed(888)\n",
    "\n",
    "# 1D array size 100 with normal distribution\n",
    "arr1 = np.random.randn(100)\n",
    "print(arr1.shape)\n",
    "\n",
    "# 2D array 8x8 with random integers 1-10\n",
    "arr2 = np.random.randint(1, 11, (8, 8))\n",
    "print(arr2.shape)\n",
    "\n",
    "# 3D array 4x2x5 with random integers 1-17\n",
    "arr3 = np.random.randint(1, 18, (4, 2, 5))\n",
    "print(arr3.shape)"
   ]
  }
 ],
 "metadata": {
  "kernelspec": {
   "display_name": "ex00",
   "language": "python",
   "name": "python3"
  },
  "language_info": {
   "codemirror_mode": {
    "name": "ipython",
    "version": 3
   },
   "file_extension": ".py",
   "mimetype": "text/x-python",
   "name": "python",
   "nbconvert_exporter": "python",
   "pygments_lexer": "ipython3",
   "version": "3.8.20"
  }
 },
 "nbformat": 4,
 "nbformat_minor": 5
}
